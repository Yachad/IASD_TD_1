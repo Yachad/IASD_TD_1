{
  "nbformat": 4,
  "nbformat_minor": 0,
  "metadata": {
    "kernelspec": {
      "display_name": "'Python Interactive'",
      "language": "python",
      "name": "c745e46f-b9ab-4a1b-b77b-45f189b748d6"
    },
    "language_info": {
      "codemirror_mode": {
        "name": "ipython",
        "version": 3
      },
      "file_extension": ".py",
      "mimetype": "text/x-python",
      "name": "python",
      "nbconvert_exporter": "python",
      "pygments_lexer": "ipython3",
      "version": "3.7.1"
    },
    "colab": {
      "name": "TD_LDA.ipynb",
      "provenance": [],
      "collapsed_sections": []
    }
  },
  "cells": [
    {
      "cell_type": "code",
      "metadata": {
        "id": "-hdXZdZF_ght",
        "colab_type": "code",
        "colab": {}
      },
      "source": [
        "## Import libs\n",
        "import numpy as np\n",
        "import pandas as pd\n",
        "import os \n",
        "import random\n",
        "from tqdm import tqdm\n",
        "random.seed(1234)"
      ],
      "execution_count": 0,
      "outputs": []
    },
    {
      "cell_type": "markdown",
      "metadata": {
        "id": "InloVtsJ_ghw",
        "colab_type": "text"
      },
      "source": [
        "## LDA from scratch"
      ]
    },
    {
      "cell_type": "markdown",
      "metadata": {
        "id": "R_soXJnY_ghx",
        "colab_type": "text"
      },
      "source": [
        "###### Text clustering is a widely used techniques to automatically draw out patterns from a set of documents, specially for documents organizing or indexing (tagging).\n",
        "###### With the plethora amount of information available on the Internet, the topic of knowledge management has become ever so more important.\n",
        "###### Everyone’s way of thinking about things may differ ever so slightly, a team of information architects may argue for years over which word is the right term to represent a document. Tagging, on the other hand, users can use whatever term works for them.\n",
        "###### This is now a common way (e.g. on Twitter, StackOverflow) to sort relevant topics together so that they can be easily found by people of the same interested.\n"
      ]
    },
    {
      "cell_type": "markdown",
      "metadata": {
        "id": "zNBTZAR1_ghy",
        "colab_type": "text"
      },
      "source": [
        "## Latent Dirichlet Allocation"
      ]
    },
    {
      "cell_type": "markdown",
      "metadata": {
        "id": "N0aProyR_ghz",
        "colab_type": "text"
      },
      "source": [
        "**Latent Dirichlet Allocation** (LDA) is a probabilistic topic modeling method that gives us an approach to find out possible topics from documents that we do not know of beforehand. \n",
        "\n",
        "The key assumptions behind LDA is that each given documents is a mix of multiple topics. Given a set of documents, one can use the LDA framework to learn not only the topic mixture (distribution) that represents each document. But also word (distribution) that are associated with each topic to help understand what the topic might be referring to. \n",
        "\n",
        "The topic distribution for each document is distributed as \n",
        "\n",
        "$$ \\theta \\sim Dirichlet(\\alpha) $$\n",
        "\n",
        "Where $Dirichlet(\\alpha)$ denotes the Dirichlet distribution for parameter $\\alpha$.\n",
        "\n",
        "The term (word) distribution on the other hand is also modeled by a Dirichlet distribution, just under a different parameter $\\eta$ ( pronounced \"eta\", you'll see other places refer to it as $\\beta$ ).\n",
        "\n",
        "$$ \\phi \\sim Dirichlet(\\eta) $$\n",
        "\n",
        "The utmost goal of LDA is to estimate the $\\theta$ and $\\phi$ which is equivalent to estimate which words are important for which topic and which topics are important for a particular document, respectively.\n",
        "\n",
        "The basic idea behind the parameters for the Dirichlet distribution is: $\\alpha$ The higher the value the more likely each document is to contain a mixture of most of the topics instead of any single topic. The same goes for $\\eta$, where higher value denotes that each topic is likely to contain a mixture of most of the words and not any word specifically.\n",
        "\n",
        "There're different approaches to this algorithm, the one we'll be using is gibbs sampling.\n",
        "\n",
        "Gibbs sampling is commonly used as a means of statistical inference, especially Bayesian inference. It is a randomized algorithm (i.e. an algorithm that makes use of random numbers), and is an alternative to deterministic algorithms for statistical inference such as the expectation-maximization algorithm (EM).\n",
        "\n",
        "We'll use 8 short strings to represent our set of documents. \n",
        "The following section creates the set the documents and convert each document into word ids, where word ids is just the ids assigned to each unique word in the set of document. We're dropping the issue of stemming words as this is a fairly simple set of document."
      ]
    },
    {
      "cell_type": "code",
      "metadata": {
        "id": "ZIL5W-02_ghz",
        "colab_type": "code",
        "colab": {}
      },
      "source": [
        "rawdocs = ['eat turkey on turkey day holiday',\n",
        "          'i like to eat cake on holiday',\n",
        "          'turkey trot race on thanksgiving holiday',\n",
        "          \"snail race the turtle\",\n",
        "          'time travel space race',\n",
        "          'movie on thanksgiving',\n",
        "          'movie at air and space museum is cool movie',\n",
        "          'aspiring movie star'\n",
        "]\n",
        "\n",
        "\n",
        "def delete_stop_word(doc):\n",
        "    \"\"\" remove stopwords\"\"\"\n",
        "    stopwords = ['on', 'the', 'at', 'to', 'i', 'and', 'is']\n",
        "    for stop_word in stopwords:\n",
        "        if stop_word in doc:\n",
        "            doc.remove(stop_word)\n",
        "    return doc\n",
        "\n",
        "\n",
        "docs = [rawdoc.split(' ') for rawdoc in rawdocs]\n",
        "\n",
        "\n",
        "# unique words\n",
        "vocab = list(set(sum(docs, [])))\n",
        "vocab.sort()\n",
        "vocab = np.array(vocab)\n",
        "\n",
        "\n",
        "# replace words in documents with wordIDs\n",
        "docs_index = [[np.argwhere(vocab == word).item() for word in doc] for doc in docs] "
      ],
      "execution_count": 0,
      "outputs": []
    },
    {
      "cell_type": "code",
      "metadata": {
        "id": "TRkpGbZo_gh1",
        "colab_type": "code",
        "outputId": "020ce9b8-58d0-4f6b-90c9-b847745aa9bf",
        "colab": {
          "base_uri": "https://localhost:8080/",
          "height": 153
        }
      },
      "source": [
        "docs"
      ],
      "execution_count": 22,
      "outputs": [
        {
          "output_type": "execute_result",
          "data": {
            "text/plain": [
              "[['eat', 'turkey', 'on', 'turkey', 'day', 'holiday'],\n",
              " ['i', 'like', 'to', 'eat', 'cake', 'on', 'holiday'],\n",
              " ['turkey', 'trot', 'race', 'on', 'thanksgiving', 'holiday'],\n",
              " ['snail', 'race', 'the', 'turtle'],\n",
              " ['time', 'travel', 'space', 'race'],\n",
              " ['movie', 'on', 'thanksgiving'],\n",
              " ['movie', 'at', 'air', 'and', 'space', 'museum', 'is', 'cool', 'movie'],\n",
              " ['aspiring', 'movie', 'star']]"
            ]
          },
          "metadata": {
            "tags": []
          },
          "execution_count": 22
        }
      ]
    },
    {
      "cell_type": "code",
      "metadata": {
        "id": "q9rGKXFP_gh4",
        "colab_type": "code",
        "outputId": "9e206de2-e2cf-4a91-dc4c-e2bbf1733edf",
        "colab": {
          "base_uri": "https://localhost:8080/",
          "height": 85
        }
      },
      "source": [
        "vocab"
      ],
      "execution_count": 23,
      "outputs": [
        {
          "output_type": "execute_result",
          "data": {
            "text/plain": [
              "array(['air', 'and', 'aspiring', 'at', 'cake', 'cool', 'day', 'eat',\n",
              "       'holiday', 'i', 'is', 'like', 'movie', 'museum', 'on', 'race',\n",
              "       'snail', 'space', 'star', 'thanksgiving', 'the', 'time', 'to',\n",
              "       'travel', 'trot', 'turkey', 'turtle'], dtype='<U12')"
            ]
          },
          "metadata": {
            "tags": []
          },
          "execution_count": 23
        }
      ]
    },
    {
      "cell_type": "markdown",
      "metadata": {
        "id": "R58WnzGQ_gh6",
        "colab_type": "text"
      },
      "source": [
        "A slight drawback of latent dirichlet allocation is that you have to specify the number of clusters first. In other words you have to specify the number of topics that you wish to group the set of documents into upfront ( denoted by K ). In our cases we'll use 2.\n",
        "\n",
        "The first step of the algorithm is to go through each document and randomly assign each word in the document to one of the K topics. Apart from generating this **topic assignment list**, we'll also create a **word-topic matrix**, which is the count of each word being assigned to each topic. And a **document-topic matrix**, which is the number of words assigned to each topic for each document (distribution of the topic assignment list). We'll be using the later two matrices throughout the process of the algorithm.\n"
      ]
    },
    {
      "cell_type": "code",
      "metadata": {
        "id": "YoZ4IuhC_gh6",
        "colab_type": "code",
        "colab": {}
      },
      "source": [
        "# cluster number \n",
        "K = 2\n",
        "\n",
        "# %%\n",
        "# initialize count matrices \n",
        "# @wt = word-topic matrix \n",
        "wt = pd.DataFrame(data = np.zeros(shape = [K, len(vocab)]),\n",
        "                  columns= vocab,\n",
        "                  index= np.arange(1, K+1))\n",
        "\n",
        "\n",
        "# @ta : topic assignment list\n",
        "ta = [[np.random.randint(1, high=K+1, size=1).item() for word in doc] for doc in docs]\n",
        "\n",
        "# %%\n",
        "# @dt : counts correspond to the number of words assigned to each topic for each document\n",
        "dt = np.zeros([len(docs), K])\n",
        "\n",
        "\n",
        "for index_doc, doc in enumerate(docs):\n",
        "    # randomly assign topic to word w\n",
        "    for index_word,  word in enumerate(doc):\n",
        "        ta[index_doc][index_word] = np.random.randint(1, high=K+1, size=1).item()\n",
        "        \n",
        "        # extract the topic index, word id and update the corresponding cell\n",
        "        # in the word-topic matrix\n",
        "        topic = ta[index_doc][index_word]\n",
        "        wt.loc[topic, word] +=  1\n",
        "\n",
        "    # count words in document d assigned to each topic t\n",
        "    for t in np.arange(1, K+1) :\n",
        "        dt[index_doc,t-1] =  np.sum((np.array(ta[index_doc]) == t) * 1)"
      ],
      "execution_count": 0,
      "outputs": []
    },
    {
      "cell_type": "code",
      "metadata": {
        "id": "15XX0qED_gh8",
        "colab_type": "code",
        "outputId": "d2cae62d-78ea-4034-8b1d-d2745d8435f2",
        "colab": {
          "base_uri": "https://localhost:8080/",
          "height": 111
        }
      },
      "source": [
        "wt"
      ],
      "execution_count": 25,
      "outputs": [
        {
          "output_type": "execute_result",
          "data": {
            "text/html": [
              "<div>\n",
              "<style scoped>\n",
              "    .dataframe tbody tr th:only-of-type {\n",
              "        vertical-align: middle;\n",
              "    }\n",
              "\n",
              "    .dataframe tbody tr th {\n",
              "        vertical-align: top;\n",
              "    }\n",
              "\n",
              "    .dataframe thead th {\n",
              "        text-align: right;\n",
              "    }\n",
              "</style>\n",
              "<table border=\"1\" class=\"dataframe\">\n",
              "  <thead>\n",
              "    <tr style=\"text-align: right;\">\n",
              "      <th></th>\n",
              "      <th>air</th>\n",
              "      <th>and</th>\n",
              "      <th>aspiring</th>\n",
              "      <th>at</th>\n",
              "      <th>cake</th>\n",
              "      <th>cool</th>\n",
              "      <th>day</th>\n",
              "      <th>eat</th>\n",
              "      <th>holiday</th>\n",
              "      <th>i</th>\n",
              "      <th>is</th>\n",
              "      <th>like</th>\n",
              "      <th>movie</th>\n",
              "      <th>museum</th>\n",
              "      <th>on</th>\n",
              "      <th>race</th>\n",
              "      <th>snail</th>\n",
              "      <th>space</th>\n",
              "      <th>star</th>\n",
              "      <th>thanksgiving</th>\n",
              "      <th>the</th>\n",
              "      <th>time</th>\n",
              "      <th>to</th>\n",
              "      <th>travel</th>\n",
              "      <th>trot</th>\n",
              "      <th>turkey</th>\n",
              "      <th>turtle</th>\n",
              "    </tr>\n",
              "  </thead>\n",
              "  <tbody>\n",
              "    <tr>\n",
              "      <th>1</th>\n",
              "      <td>1.0</td>\n",
              "      <td>1.0</td>\n",
              "      <td>0.0</td>\n",
              "      <td>0.0</td>\n",
              "      <td>1.0</td>\n",
              "      <td>0.0</td>\n",
              "      <td>1.0</td>\n",
              "      <td>0.0</td>\n",
              "      <td>1.0</td>\n",
              "      <td>0.0</td>\n",
              "      <td>1.0</td>\n",
              "      <td>0.0</td>\n",
              "      <td>0.0</td>\n",
              "      <td>0.0</td>\n",
              "      <td>3.0</td>\n",
              "      <td>1.0</td>\n",
              "      <td>1.0</td>\n",
              "      <td>1.0</td>\n",
              "      <td>0.0</td>\n",
              "      <td>2.0</td>\n",
              "      <td>1.0</td>\n",
              "      <td>0.0</td>\n",
              "      <td>0.0</td>\n",
              "      <td>1.0</td>\n",
              "      <td>1.0</td>\n",
              "      <td>3.0</td>\n",
              "      <td>0.0</td>\n",
              "    </tr>\n",
              "    <tr>\n",
              "      <th>2</th>\n",
              "      <td>0.0</td>\n",
              "      <td>0.0</td>\n",
              "      <td>1.0</td>\n",
              "      <td>1.0</td>\n",
              "      <td>0.0</td>\n",
              "      <td>1.0</td>\n",
              "      <td>0.0</td>\n",
              "      <td>2.0</td>\n",
              "      <td>2.0</td>\n",
              "      <td>1.0</td>\n",
              "      <td>0.0</td>\n",
              "      <td>1.0</td>\n",
              "      <td>4.0</td>\n",
              "      <td>1.0</td>\n",
              "      <td>1.0</td>\n",
              "      <td>2.0</td>\n",
              "      <td>0.0</td>\n",
              "      <td>1.0</td>\n",
              "      <td>1.0</td>\n",
              "      <td>0.0</td>\n",
              "      <td>0.0</td>\n",
              "      <td>1.0</td>\n",
              "      <td>1.0</td>\n",
              "      <td>0.0</td>\n",
              "      <td>0.0</td>\n",
              "      <td>0.0</td>\n",
              "      <td>1.0</td>\n",
              "    </tr>\n",
              "  </tbody>\n",
              "</table>\n",
              "</div>"
            ],
            "text/plain": [
              "   air  and  aspiring   at  cake  cool  ...  time   to  travel  trot  turkey  turtle\n",
              "1  1.0  1.0       0.0  0.0   1.0   0.0  ...   0.0  0.0     1.0   1.0     3.0     0.0\n",
              "2  0.0  0.0       1.0  1.0   0.0   1.0  ...   1.0  1.0     0.0   0.0     0.0     1.0\n",
              "\n",
              "[2 rows x 27 columns]"
            ]
          },
          "metadata": {
            "tags": []
          },
          "execution_count": 25
        }
      ]
    },
    {
      "cell_type": "code",
      "metadata": {
        "id": "STiXa4-U_gh-",
        "colab_type": "code",
        "outputId": "cef2e3f6-461b-4390-c9ee-c33421a4d25d",
        "colab": {
          "base_uri": "https://localhost:8080/",
          "height": 153
        }
      },
      "source": [
        "ta"
      ],
      "execution_count": 26,
      "outputs": [
        {
          "output_type": "execute_result",
          "data": {
            "text/plain": [
              "[[2, 1, 1, 1, 1, 2],\n",
              " [2, 2, 2, 2, 1, 1, 2],\n",
              " [1, 1, 1, 2, 1, 1],\n",
              " [1, 2, 1, 2],\n",
              " [2, 1, 2, 2],\n",
              " [2, 1, 1],\n",
              " [2, 2, 1, 1, 1, 2, 1, 2, 2],\n",
              " [2, 2, 2]]"
            ]
          },
          "metadata": {
            "tags": []
          },
          "execution_count": 26
        }
      ]
    },
    {
      "cell_type": "code",
      "metadata": {
        "id": "UxMBUt3y_gh_",
        "colab_type": "code",
        "outputId": "bdf693f7-bb11-4b5e-dac8-dbfb3fe1a300",
        "colab": {
          "base_uri": "https://localhost:8080/",
          "height": 153
        }
      },
      "source": [
        "dt"
      ],
      "execution_count": 27,
      "outputs": [
        {
          "output_type": "execute_result",
          "data": {
            "text/plain": [
              "array([[4., 2.],\n",
              "       [2., 5.],\n",
              "       [5., 1.],\n",
              "       [2., 2.],\n",
              "       [1., 3.],\n",
              "       [2., 1.],\n",
              "       [4., 5.],\n",
              "       [0., 3.]])"
            ]
          },
          "metadata": {
            "tags": []
          },
          "execution_count": 27
        }
      ]
    },
    {
      "cell_type": "markdown",
      "metadata": {
        "id": "47qy9JDb_giF",
        "colab_type": "text"
      },
      "source": [
        "Notice that this random assignment already gives you both the topic representations of all the documents and word distributions of all the topics, albeit not very good ones. \n",
        "\n",
        "So to improve them, we'll employ the gibbs sampling method that performs the following steps for a user-specified iteration: \n",
        "\n",
        "For each document d, go through each word w (a double for loop). Reassign a new topic to w, where we choose topic t with the probability of word w given topic t $\\times$ probability of topic t given document d, denoted by the following mathematical notations:\n",
        "\n",
        "$$ P( z_i = j \\text{ }| \\text{ } z_{-i}, w_i, d_i ) \n",
        "    \\propto  \\frac{ C^{WT}_{w_ij} + \\eta }{ \\sum^W_{ w = 1 }C^{WT}_{wj} + W\\eta } \\times\n",
        "      \\frac{ C^{DT}_{d_ij} + \\alpha }{ \\sum^T_{ t = 1 }C^{DT}_{d_it} + T\\alpha }\n",
        "$$\n",
        "\n",
        "\n",
        "Let's try and break that down piece by piece..... \n",
        "\n",
        "Starting from the left side of the equal sign:\n",
        "\n",
        "- **$P(z_i = j)$ :** The probability that token i is assigned to topic j.\n",
        "- **$z_{-i}$ :** Represents topic assignments of all other tokens.\n",
        "- **$w_i$ :** Word (index) of the $i_{th}$ token.\n",
        "- **$d_i$ :** Document containing the $i_{th}$ token.\n",
        "\n",
        "For the right side of the proportionality :\n",
        "\n",
        "- **$C^{WT}$ :** Word-topic matrix, the `wt` matrix we generated.\n",
        "- **$\\sum^W_{ w = 1 }C^{WT}_{wj}$ :** Total number of tokens (words) in each topic.\n",
        "- **$C^{DT}$ :** Document-topic matrix, the `dt` matrix we generated.\n",
        "- **$\\sum^T_{ t = 1 }C^{DT}_{d_it}$ :** Total number of tokens (words) in document i.\n",
        "- **$\\eta$ :** Parameter that sets the topic distribution for the words, the higher the more spread out the words will be across the specified number of topics (K). \n",
        "- **$\\alpha$ :** Parameter that sets the topic distribution for the documents, the higher the more spread out the documents will be across the specified number of topics (K).\n",
        "- **$W$ :** Total number of words in the set of documents. \n",
        "- **$T$ :** Number of topics, equivalent of the K we defined earlier. \n",
        "\n",
        "It may be still confusing with all of that notations, the following section goes through the computation for one iteration. The topic of the first word in the first document is resampled as follow: The output will not be printed during the process, since it'll probably make the documentation messier."
      ]
    },
    {
      "cell_type": "markdown",
      "metadata": {
        "id": "UiS4rQpkKugf",
        "colab_type": "text"
      },
      "source": [
        "LDA Gibbs Algorithm \n",
        "\n",
        "\n",
        "#### for each iteration $i $ :\n",
        "#### &nbsp;&nbsp;  for each document  $d_i  \\in \\mathcal D $ :\n",
        "#### &nbsp;&nbsp;&nbsp;&nbsp;&nbsp;&nbsp;  for each word  $w_i  \\in \\mathcal d_i $ :\n",
        "#### &nbsp;&nbsp;&nbsp;&nbsp;&nbsp;&nbsp;&nbsp;&nbsp; &nbsp;&nbsp;&nbsp; $z_{old}$ : topic assigned to $w_i$ \n",
        "#### &nbsp;&nbsp;&nbsp;&nbsp;&nbsp;&nbsp;&nbsp;&nbsp;&nbsp;&nbsp;&nbsp; 1.&nbsp;&nbsp;&nbsp; Decrement &nbsp;&nbsp;   $n_{d_i, z_{old}}$, $wt_{z_{old}, w_{d, n}}$ \n",
        "\n",
        "#### &nbsp;&nbsp;&nbsp;&nbsp;&nbsp;&nbsp;&nbsp;&nbsp;&nbsp;&nbsp;&nbsp; 2.&nbsp;&nbsp;&nbsp; Sample $z_{new}$ &nbsp;&nbsp; &nbsp;&nbsp; from $ P( z_i = j \\text{ }| \\text{ } z_{-i}, w_i, d_i ) $ \n",
        "\n",
        "#### &nbsp;&nbsp;&nbsp;&nbsp;&nbsp;&nbsp;&nbsp;&nbsp;&nbsp;&nbsp;&nbsp; 3.&nbsp;&nbsp;&nbsp; Increment &nbsp;&nbsp;   $n_{d_i, z_{new}}$, $wt_{z_{new}, w_{d, n}}$ "
      ]
    },
    {
      "cell_type": "code",
      "metadata": {
        "id": "yN4RmNHi_giG",
        "colab_type": "code",
        "colab": {}
      },
      "source": [
        "# ----------------------------------------------------------------------------------------\n",
        "#\t\t\t\t\t\t\t\tGibbs sampling one iteration \n",
        "# ----------------------------------------------------------------------------------------\n",
        "\n",
        "# %%\n",
        "## 1. Randomly assign topics to\n",
        "alpha = 1\n",
        "eta = 1\n",
        "\n",
        "\n",
        "# initial topics assigned to the first word of the first document \n",
        "# and its corresponding word id \n",
        "\n",
        "t0 = ta[0][0]\n",
        "word_id = docs_index[0][0]\n",
        "\n",
        "# Z_-i means that we dot not include token w in our word-topic and document-topic\n",
        "# count matrix when sampling for token w,\n",
        "# only leave the topic assignments of all other tokens for document 1\n",
        "\n",
        "dt[0, t0-1] = dt[0, t0-1] - 1 \n",
        "wt.iloc[t0-1, word_id] = wt.iloc[t0-1, word_id] - 1\n",
        "\n",
        "# calculate left side and right side of propo\n",
        "\n",
        "left = (wt.iloc[:, word_id] + eta) / (wt.sum(axis=1) + len(vocab) * eta)\n",
        "right = (dt[0] + alpha) / (dt[0].sum() + K * alpha)\n",
        "\n",
        "# transform the proportionality to a probability\n",
        "prob_topic = (left * right) /(left * right).sum()\n",
        "\n",
        "# %%\n",
        "# draw new topic for the first word in the first document \n",
        "new_t0 = np.random.choice([1, 2], 1, p=prob_topic).item()\n",
        "\n",
        "# refresh the dt and wt with the newly assigned topic \n",
        "ta[0][0] = new_t0 \n",
        "dt[0, new_t0-1] = dt[0, new_t0-1] + 1 \n",
        "wt.iloc[new_t0-1, word_id] += 1"
      ],
      "execution_count": 0,
      "outputs": []
    },
    {
      "cell_type": "markdown",
      "metadata": {
        "id": "bZQkIAbR_giH",
        "colab_type": "text"
      },
      "source": [
        "After the first iteration, the topic for the first word in the first document is updated to `r new_t0`. Hopefully, that is clears out the confusing of all those mathematical notations. We can now apply the whole thing to a user-specified iteration. Just remember after drawing the new topic we also have to update the topic assignment list with newly sampled topic for token w; re-increment the word-topic and document-topic count matrices with the new sampled topic for token w.\n",
        "\n",
        "To conserve space, we'll put all of it into a function [`LDA1`][LDA], which takes the paramters of:\n",
        "\n",
        "- `docs` Document that have be converted to token (word) ids.\n",
        "- `vocab` Unique tokens (words) for all the document collection.\n",
        "- `K` Number of topic groups.\n",
        "- `alpha` and `eta` Distribution parameters as explained earlier.\n",
        "- `iterations` Number of iterations to run gibbs sampling to train our model.\n",
        "- Returns a list containing the final weight-topic count matrix `wt` and document-topic matrix `dt`."
      ]
    },
    {
      "cell_type": "code",
      "metadata": {
        "id": "jq4_yGay_giI",
        "colab_type": "code",
        "colab": {}
      },
      "source": [
        "def lda_scratch(docs, vocab, K, alpha, eta, iterations):\n",
        "\n",
        "    # replace words in documents with wordIDs\n",
        "    docs_index = [[np.argwhere(vocab == word).item() for word in doc] for doc in docs] \n",
        "\n",
        "    #initialize count matrices\n",
        "    # @wt : word-topic matrix\n",
        "    wt = pd.DataFrame(data = np.zeros(shape = [K, len(vocab)]),\n",
        "                  columns= vocab,\n",
        "                  index= np.arange(1, K+1))\n",
        "\n",
        "    # @ta : topic assignment list\n",
        "    ta = [[np.random.randint(1, high= K+1, size=1).item() for word in doc] for doc in docs]\n",
        "\n",
        "    # @dt : counts correspond to the number of words assigned to each topic for each document\n",
        "    dt = np.zeros([len(docs), K])\n",
        "\n",
        "    for index_doc, doc in enumerate(docs):\n",
        "    # randomly assign topic to word w\n",
        "        for index_word,  word in enumerate(doc):\n",
        "            ta[index_doc][index_word] = np.random.randint(1, high=K+1, size=1).item()\n",
        "            \n",
        "            # extract the topic index, word id and update the corresponding cell\n",
        "            # in the word-topic matrix\n",
        "            topic = ta[index_doc][index_word]\n",
        "            wt.loc[topic, word] +=  1\n",
        "\n",
        "            # count words in document d assigned to each topic t\n",
        "            for t in np.arange(1, K+1) :\n",
        "                dt[index_doc,t-1] =  np.sum((np.array(ta[index_doc]) == t) * 1)\n",
        "\n",
        "\n",
        "    # for each pass through the corpus\n",
        "\n",
        "    for i in tqdm(np.arange(iterations)):\n",
        "\n",
        "        # for each document \n",
        "        for id_doc in np.arange(len(docs)):\n",
        "            \n",
        "            # for each id_word in id_doc\n",
        "            for id_word in np.arange(len(docs[id_doc])):\n",
        "\n",
        "                # initial topics assigned to the first word of the first document \n",
        "                # and its corresponding word id \n",
        "\n",
        "                ti = ta[id_doc][id_word]\n",
        "                word_id = docs_index[id_doc][id_word]\n",
        "\n",
        "                dt[id_doc, ti-1] = dt[id_doc, ti-1] - 1 if dt[id_doc, ti-1] > 0 else 0 # i add this condition because if document don't contribute to the topic distribution\n",
        "                wt.iloc[ti-1, word_id] = wt.iloc[ti-1, word_id] - 1 if wt.iloc[ti-1, word_id] > 0 else 0 # i add this condition because if the word don't contribute to the topic distribution\n",
        "\n",
        "\n",
        "                left = (wt.iloc[:, word_id] + eta) / (wt.sum(axis=1) + len(vocab) * eta)\n",
        "                right = (dt[id_doc] + alpha) / (dt[id_doc].sum() + K * alpha)\n",
        "\n",
        "\n",
        "                # transform the proportionality to a probability\n",
        "                prob_topic = (left * right) /(left * right).sum()\n",
        "\n",
        "                # draw new topic for id_word in the id_doc document \n",
        "                new_ti = np.random.choice(np.arange(1, K+1), 1, p=prob_topic).item()\n",
        "\n",
        "                # refresh the dt and wt with the newly assigned topic \n",
        "                ta[id_doc][id_word] = new_ti\n",
        "                dt[id_doc, new_ti-1] = dt[id_doc, new_ti-1] + 1 \n",
        "                wt.iloc[new_ti-1, word_id] = wt.iloc[new_ti-1, word_id] + 1\n",
        "\n",
        "                #if ti != new_ti:\n",
        "                #    print(f\"doc:, {id_doc}, token: , {id_word},  topic:, {ti}, =>, {new_ti}\" )\n",
        "    \n",
        "    return wt, dt "
      ],
      "execution_count": 0,
      "outputs": []
    },
    {
      "cell_type": "code",
      "metadata": {
        "id": "bnQTJxM2_giJ",
        "colab_type": "code",
        "outputId": "35b08a16-2dd6-41dd-f890-7e19204fad64",
        "colab": {
          "base_uri": "https://localhost:8080/",
          "height": 34
        }
      },
      "source": [
        "K=2\n",
        "alpha = 1\n",
        "eta = 0.001\n",
        "iterations = 1000\n",
        "\n",
        "# %%\n",
        "wt , dt = lda_scratch(docs, vocab, K, alpha, eta, iterations)"
      ],
      "execution_count": 30,
      "outputs": [
        {
          "output_type": "stream",
          "text": [
            "100%|██████████| 1000/1000 [01:28<00:00, 11.63it/s]\n"
          ],
          "name": "stderr"
        }
      ]
    },
    {
      "cell_type": "markdown",
      "metadata": {
        "id": "eMwzDURy_giL",
        "colab_type": "text"
      },
      "source": [
        "After we're done with learning the topics for `r iterations` iterations, we can use the count matrices to obtain the word-topic distribution and document-topic distribution.\n",
        "\n",
        "To compute the probability of word given topic:\n",
        "\n",
        "$$\\phi_{ij} = \\frac{C^{WT}_{ij} + \\eta}{\\sum^W_{ k = 1 }C^{WT}_{kj} + W\\eta}$$\n",
        "\n",
        "Where $\\phi_{ij}$ is the probability of word i for topic j."
      ]
    },
    {
      "cell_type": "code",
      "metadata": {
        "id": "JldZgthD_giM",
        "colab_type": "code",
        "colab": {}
      },
      "source": [
        "# topic probability of every word\n",
        "phi = pd.DataFrame(data=(wt + eta).values / (wt.sum(axis=1) + len(vocab) * eta).values.reshape(-1, 1),\n",
        "                   columns= vocab,\n",
        "                   index= np.arange(1, K+1))"
      ],
      "execution_count": 0,
      "outputs": []
    },
    {
      "cell_type": "code",
      "metadata": {
        "id": "jEnFDQKA_giO",
        "colab_type": "code",
        "outputId": "1db51d0d-8816-4ed5-b899-5da7ddab5141",
        "colab": {
          "base_uri": "https://localhost:8080/",
          "height": 131
        }
      },
      "source": [
        "phi"
      ],
      "execution_count": 32,
      "outputs": [
        {
          "output_type": "execute_result",
          "data": {
            "text/html": [
              "<div>\n",
              "<style scoped>\n",
              "    .dataframe tbody tr th:only-of-type {\n",
              "        vertical-align: middle;\n",
              "    }\n",
              "\n",
              "    .dataframe tbody tr th {\n",
              "        vertical-align: top;\n",
              "    }\n",
              "\n",
              "    .dataframe thead th {\n",
              "        text-align: right;\n",
              "    }\n",
              "</style>\n",
              "<table border=\"1\" class=\"dataframe\">\n",
              "  <thead>\n",
              "    <tr style=\"text-align: right;\">\n",
              "      <th></th>\n",
              "      <th>air</th>\n",
              "      <th>and</th>\n",
              "      <th>aspiring</th>\n",
              "      <th>at</th>\n",
              "      <th>cake</th>\n",
              "      <th>cool</th>\n",
              "      <th>day</th>\n",
              "      <th>eat</th>\n",
              "      <th>holiday</th>\n",
              "      <th>i</th>\n",
              "      <th>is</th>\n",
              "      <th>like</th>\n",
              "      <th>movie</th>\n",
              "      <th>museum</th>\n",
              "      <th>on</th>\n",
              "      <th>race</th>\n",
              "      <th>snail</th>\n",
              "      <th>space</th>\n",
              "      <th>star</th>\n",
              "      <th>thanksgiving</th>\n",
              "      <th>the</th>\n",
              "      <th>time</th>\n",
              "      <th>to</th>\n",
              "      <th>travel</th>\n",
              "      <th>trot</th>\n",
              "      <th>turkey</th>\n",
              "      <th>turtle</th>\n",
              "    </tr>\n",
              "  </thead>\n",
              "  <tbody>\n",
              "    <tr>\n",
              "      <th>1</th>\n",
              "      <td>0.000050</td>\n",
              "      <td>0.049983</td>\n",
              "      <td>0.000050</td>\n",
              "      <td>0.049983</td>\n",
              "      <td>0.000050</td>\n",
              "      <td>0.049983</td>\n",
              "      <td>0.000050</td>\n",
              "      <td>0.000050</td>\n",
              "      <td>0.149848</td>\n",
              "      <td>0.049983</td>\n",
              "      <td>0.000050</td>\n",
              "      <td>0.049983</td>\n",
              "      <td>0.000050</td>\n",
              "      <td>0.049983</td>\n",
              "      <td>0.000050</td>\n",
              "      <td>0.149848</td>\n",
              "      <td>0.049983</td>\n",
              "      <td>0.099915</td>\n",
              "      <td>0.049983</td>\n",
              "      <td>0.000050</td>\n",
              "      <td>0.049983</td>\n",
              "      <td>0.049983</td>\n",
              "      <td>0.000050</td>\n",
              "      <td>0.049983</td>\n",
              "      <td>0.000050</td>\n",
              "      <td>0.000050</td>\n",
              "      <td>0.049983</td>\n",
              "    </tr>\n",
              "    <tr>\n",
              "      <th>2</th>\n",
              "      <td>0.045444</td>\n",
              "      <td>0.000045</td>\n",
              "      <td>0.045444</td>\n",
              "      <td>0.000045</td>\n",
              "      <td>0.045444</td>\n",
              "      <td>0.000045</td>\n",
              "      <td>0.045444</td>\n",
              "      <td>0.090843</td>\n",
              "      <td>0.000045</td>\n",
              "      <td>0.000045</td>\n",
              "      <td>0.045444</td>\n",
              "      <td>0.000045</td>\n",
              "      <td>0.181641</td>\n",
              "      <td>0.000045</td>\n",
              "      <td>0.181641</td>\n",
              "      <td>0.000045</td>\n",
              "      <td>0.000045</td>\n",
              "      <td>0.000045</td>\n",
              "      <td>0.000045</td>\n",
              "      <td>0.090843</td>\n",
              "      <td>0.000045</td>\n",
              "      <td>0.000045</td>\n",
              "      <td>0.045444</td>\n",
              "      <td>0.000045</td>\n",
              "      <td>0.045444</td>\n",
              "      <td>0.136242</td>\n",
              "      <td>0.000045</td>\n",
              "    </tr>\n",
              "  </tbody>\n",
              "</table>\n",
              "</div>"
            ],
            "text/plain": [
              "        air       and  aspiring  ...      trot    turkey    turtle\n",
              "1  0.000050  0.049983  0.000050  ...  0.000050  0.000050  0.049983\n",
              "2  0.045444  0.000045  0.045444  ...  0.045444  0.136242  0.000045\n",
              "\n",
              "[2 rows x 27 columns]"
            ]
          },
          "metadata": {
            "tags": []
          },
          "execution_count": 32
        }
      ]
    },
    {
      "cell_type": "markdown",
      "metadata": {
        "id": "AhQUNNMh_giP",
        "colab_type": "text"
      },
      "source": [
        "$$\\theta_{dj} = \\frac{C^{DT}_{dj} + \\alpha}{\\sum^T_{ k = 1 }C^{DT}_{dk} + T\\alpha}$$\n",
        "\n",
        "Where $\\theta_{dj}$ is the proportion of topic j in document d.\n"
      ]
    },
    {
      "cell_type": "code",
      "metadata": {
        "id": "9zxWMV65_giQ",
        "colab_type": "code",
        "colab": {}
      },
      "source": [
        "# topic probability of every document\n",
        "theta = (dt + alpha) / (dt.sum(axis=1) + K * alpha).reshape(-1, 1)"
      ],
      "execution_count": 0,
      "outputs": []
    },
    {
      "cell_type": "code",
      "metadata": {
        "id": "P60G_0SM_giR",
        "colab_type": "code",
        "outputId": "17c90fa3-9f99-4f4d-f84e-b82ce0bf55e3",
        "colab": {
          "base_uri": "https://localhost:8080/",
          "height": 153
        }
      },
      "source": [
        "theta"
      ],
      "execution_count": 34,
      "outputs": [
        {
          "output_type": "execute_result",
          "data": {
            "text/plain": [
              "array([[0.25      , 0.75      ],\n",
              "       [0.44444444, 0.55555556],\n",
              "       [0.375     , 0.625     ],\n",
              "       [0.83333333, 0.16666667],\n",
              "       [0.83333333, 0.16666667],\n",
              "       [0.2       , 0.8       ],\n",
              "       [0.54545455, 0.45454545],\n",
              "       [0.4       , 0.6       ]])"
            ]
          },
          "metadata": {
            "tags": []
          },
          "execution_count": 34
        }
      ]
    },
    {
      "cell_type": "markdown",
      "metadata": {
        "id": "4sGYhRak_giT",
        "colab_type": "text"
      },
      "source": [
        "Recall that LDA assumes that each document is a mixture of all topics, thus after computing the probability that each document belongs to each topic ( same goes for word & topic ) we can use this information to see which topic does each document belongs to and the more possible words that are associated with each topic."
      ]
    },
    {
      "cell_type": "code",
      "metadata": {
        "id": "nQ_AbTZX_giU",
        "colab_type": "code",
        "colab": {}
      },
      "source": [
        "# topic assigned to each document, the one with the highest probability\n",
        "topics = np.array([np.argmax(doc_prob) + 1 for doc_prob in theta])"
      ],
      "execution_count": 0,
      "outputs": []
    },
    {
      "cell_type": "code",
      "metadata": {
        "id": "WGJiehRd_giV",
        "colab_type": "code",
        "colab": {}
      },
      "source": [
        "# possible words under each topic\n",
        "# sort the probability and obtain the user-specified number n\n",
        "def find_top_term (phi, n):\n",
        "    top_term = {}\n",
        "    for topic in phi.index.values :\n",
        "        top_term[str(topic)] = phi.loc[topic].sort_values(ascending=False)[:n]\n",
        "\n",
        "    return top_term\n",
        "\n",
        "top_terms = find_top_term(phi, 3)"
      ],
      "execution_count": 0,
      "outputs": []
    },
    {
      "cell_type": "markdown",
      "metadata": {
        "id": "u9dL5C1r_giY",
        "colab_type": "text"
      },
      "source": [
        "We specified that we wanted to see the top 3 terms associated with each topic. The following section prints out the original raw document, which is grouped into `r K` groups that we specified and words that are likely to go along with each topic."
      ]
    },
    {
      "cell_type": "code",
      "metadata": {
        "id": "N9wXbiLC_giZ",
        "colab_type": "code",
        "outputId": "7862cd8e-afc4-4666-d4fc-483aa1140d9a",
        "colab": {
          "base_uri": "https://localhost:8080/",
          "height": 136
        }
      },
      "source": [
        "### Topic \n",
        "topic = 1\n",
        "for i, rawdoc in enumerate(rawdocs):\n",
        "    if topics[i] == topic:\n",
        "        print(rawdoc)\n",
        "        \n",
        "top_terms[str(topic)]"
      ],
      "execution_count": 37,
      "outputs": [
        {
          "output_type": "stream",
          "text": [
            "snail race the turtle\n",
            "time travel space race\n",
            "movie at air and space museum is cool movie\n"
          ],
          "name": "stdout"
        },
        {
          "output_type": "execute_result",
          "data": {
            "text/plain": [
              "holiday    0.149848\n",
              "race       0.149848\n",
              "space      0.099915\n",
              "Name: 1, dtype: float64"
            ]
          },
          "metadata": {
            "tags": []
          },
          "execution_count": 37
        }
      ]
    },
    {
      "cell_type": "code",
      "metadata": {
        "id": "iKH36Asz_gib",
        "colab_type": "code",
        "outputId": "0596197a-57e9-4bdf-9243-f45926f4a705",
        "colab": {
          "base_uri": "https://localhost:8080/",
          "height": 170
        }
      },
      "source": [
        "### Topic \n",
        "topic = 2\n",
        "for i, rawdoc in enumerate(rawdocs):\n",
        "    if topics[i] == topic:\n",
        "        print(rawdoc)\n",
        "        \n",
        "top_terms[str(topic)]"
      ],
      "execution_count": 38,
      "outputs": [
        {
          "output_type": "stream",
          "text": [
            "eat turkey on turkey day holiday\n",
            "i like to eat cake on holiday\n",
            "turkey trot race on thanksgiving holiday\n",
            "movie on thanksgiving\n",
            "aspiring movie star\n"
          ],
          "name": "stdout"
        },
        {
          "output_type": "execute_result",
          "data": {
            "text/plain": [
              "movie     0.181641\n",
              "on        0.181641\n",
              "turkey    0.136242\n",
              "Name: 2, dtype: float64"
            ]
          },
          "metadata": {
            "tags": []
          },
          "execution_count": 38
        }
      ]
    },
    {
      "cell_type": "markdown",
      "metadata": {
        "id": "A4nvbx00_gid",
        "colab_type": "text"
      },
      "source": [
        "The output tells us that the first topic seems to be discussing something about movie and race , while the second is something about turkey and holiday. "
      ]
    },
    {
      "cell_type": "markdown",
      "metadata": {
        "id": "54sO0qov_gid",
        "colab_type": "text"
      },
      "source": [
        "### Second Part"
      ]
    },
    {
      "cell_type": "markdown",
      "metadata": {
        "id": "ycRjDhsF_gie",
        "colab_type": "text"
      },
      "source": [
        "In this tutorial, we will take a real example of the ’20 Newsgroups’ dataset and use LDA to extract the naturally discussed topics."
      ]
    },
    {
      "cell_type": "code",
      "metadata": {
        "id": "ByhTv49G_gie",
        "colab_type": "code",
        "outputId": "a82270c8-4a69-4afa-df57-64b54fb92cc0",
        "colab": {
          "base_uri": "https://localhost:8080/",
          "height": 68
        }
      },
      "source": [
        "import nltk; nltk.download('stopwords')\n",
        "#!pip3 install  spacy download en"
      ],
      "execution_count": 39,
      "outputs": [
        {
          "output_type": "stream",
          "text": [
            "[nltk_data] Downloading package stopwords to /root/nltk_data...\n",
            "[nltk_data]   Unzipping corpora/stopwords.zip.\n"
          ],
          "name": "stdout"
        },
        {
          "output_type": "execute_result",
          "data": {
            "text/plain": [
              "True"
            ]
          },
          "metadata": {
            "tags": []
          },
          "execution_count": 39
        }
      ]
    },
    {
      "cell_type": "code",
      "metadata": {
        "id": "Pr10fhU6_gig",
        "colab_type": "code",
        "outputId": "22f2f880-68a8-4230-b0c6-1a1f374248d3",
        "colab": {
          "base_uri": "https://localhost:8080/",
          "height": 612
        }
      },
      "source": [
        "import re\n",
        "import numpy as np\n",
        "import pandas as pd\n",
        "from pprint import pprint\n",
        "\n",
        "# Gensim\n",
        "import gensim\n",
        "import gensim.corpora as corpora\n",
        "from gensim.utils import simple_preprocess\n",
        "from gensim.models import CoherenceModel\n",
        "\n",
        "# spacy for lemmatization\n",
        "import spacy\n",
        "\n",
        "# Plotting tools\n",
        "!pip install pyldavis\n",
        "import pyLDAvis\n",
        "import pyLDAvis.gensim  # don't skip this\n",
        "import matplotlib.pyplot as plt\n",
        "%matplotlib inline\n",
        "\n",
        "# Enable logging for gensim - optional\n",
        "import logging\n",
        "logging.basicConfig(format='%(asctime)s : %(levelname)s : %(message)s', level=logging.ERROR)\n",
        "\n",
        "import warnings\n",
        "warnings.filterwarnings(\"ignore\",category=DeprecationWarning)"
      ],
      "execution_count": 40,
      "outputs": [
        {
          "output_type": "stream",
          "text": [
            "Collecting pyldavis\n",
            "\u001b[?25l  Downloading https://files.pythonhosted.org/packages/a5/3a/af82e070a8a96e13217c8f362f9a73e82d61ac8fff3a2561946a97f96266/pyLDAvis-2.1.2.tar.gz (1.6MB)\n",
            "\u001b[K     |████████████████████████████████| 1.6MB 5.1MB/s \n",
            "\u001b[?25hRequirement already satisfied: wheel>=0.23.0 in /usr/local/lib/python3.6/dist-packages (from pyldavis) (0.33.6)\n",
            "Requirement already satisfied: numpy>=1.9.2 in /usr/local/lib/python3.6/dist-packages (from pyldavis) (1.17.5)\n",
            "Requirement already satisfied: scipy>=0.18.0 in /usr/local/lib/python3.6/dist-packages (from pyldavis) (1.4.1)\n",
            "Requirement already satisfied: pandas>=0.17.0 in /usr/local/lib/python3.6/dist-packages (from pyldavis) (0.25.3)\n",
            "Requirement already satisfied: joblib>=0.8.4 in /usr/local/lib/python3.6/dist-packages (from pyldavis) (0.14.1)\n",
            "Requirement already satisfied: jinja2>=2.7.2 in /usr/local/lib/python3.6/dist-packages (from pyldavis) (2.10.3)\n",
            "Requirement already satisfied: numexpr in /usr/local/lib/python3.6/dist-packages (from pyldavis) (2.7.1)\n",
            "Requirement already satisfied: pytest in /usr/local/lib/python3.6/dist-packages (from pyldavis) (3.6.4)\n",
            "Requirement already satisfied: future in /usr/local/lib/python3.6/dist-packages (from pyldavis) (0.16.0)\n",
            "Collecting funcy\n",
            "\u001b[?25l  Downloading https://files.pythonhosted.org/packages/ce/4b/6ffa76544e46614123de31574ad95758c421aae391a1764921b8a81e1eae/funcy-1.14.tar.gz (548kB)\n",
            "\u001b[K     |████████████████████████████████| 552kB 58.2MB/s \n",
            "\u001b[?25hRequirement already satisfied: pytz>=2017.2 in /usr/local/lib/python3.6/dist-packages (from pandas>=0.17.0->pyldavis) (2018.9)\n",
            "Requirement already satisfied: python-dateutil>=2.6.1 in /usr/local/lib/python3.6/dist-packages (from pandas>=0.17.0->pyldavis) (2.6.1)\n",
            "Requirement already satisfied: MarkupSafe>=0.23 in /usr/local/lib/python3.6/dist-packages (from jinja2>=2.7.2->pyldavis) (1.1.1)\n",
            "Requirement already satisfied: attrs>=17.4.0 in /usr/local/lib/python3.6/dist-packages (from pytest->pyldavis) (19.3.0)\n",
            "Requirement already satisfied: setuptools in /usr/local/lib/python3.6/dist-packages (from pytest->pyldavis) (42.0.2)\n",
            "Requirement already satisfied: six>=1.10.0 in /usr/local/lib/python3.6/dist-packages (from pytest->pyldavis) (1.12.0)\n",
            "Requirement already satisfied: atomicwrites>=1.0 in /usr/local/lib/python3.6/dist-packages (from pytest->pyldavis) (1.3.0)\n",
            "Requirement already satisfied: py>=1.5.0 in /usr/local/lib/python3.6/dist-packages (from pytest->pyldavis) (1.8.1)\n",
            "Requirement already satisfied: more-itertools>=4.0.0 in /usr/local/lib/python3.6/dist-packages (from pytest->pyldavis) (8.0.2)\n",
            "Requirement already satisfied: pluggy<0.8,>=0.5 in /usr/local/lib/python3.6/dist-packages (from pytest->pyldavis) (0.7.1)\n",
            "Building wheels for collected packages: pyldavis, funcy\n",
            "  Building wheel for pyldavis (setup.py) ... \u001b[?25l\u001b[?25hdone\n",
            "  Created wheel for pyldavis: filename=pyLDAvis-2.1.2-py2.py3-none-any.whl size=97711 sha256=fbffb490501fa4aa70266c744e03618cdb387476c06a663c1a7f7135368eac4d\n",
            "  Stored in directory: /root/.cache/pip/wheels/98/71/24/513a99e58bb6b8465bae4d2d5e9dba8f0bef8179e3051ac414\n",
            "  Building wheel for funcy (setup.py) ... \u001b[?25l\u001b[?25hdone\n",
            "  Created wheel for funcy: filename=funcy-1.14-py2.py3-none-any.whl size=32040 sha256=d08aa8f7f65fa9fbe45e7bf8ebee6a34b75bbfc12e1fc16db999841f421f7381\n",
            "  Stored in directory: /root/.cache/pip/wheels/20/5a/d8/1d875df03deae6f178dfdf70238cca33f948ef8a6f5209f2eb\n",
            "Successfully built pyldavis funcy\n",
            "Installing collected packages: funcy, pyldavis\n",
            "Successfully installed funcy-1.14 pyldavis-2.1.2\n"
          ],
          "name": "stdout"
        }
      ]
    },
    {
      "cell_type": "code",
      "metadata": {
        "id": "PanY3AdbGINV",
        "colab_type": "code",
        "colab": {}
      },
      "source": [
        "link = 'https://raw.githubusercontent.com/Yachad/yelp_data/master/yelp.csv'"
      ],
      "execution_count": 0,
      "outputs": []
    },
    {
      "cell_type": "code",
      "metadata": {
        "id": "SFWVSWs2_gii",
        "colab_type": "code",
        "colab": {}
      },
      "source": [
        "df = pd.read_csv(link)"
      ],
      "execution_count": 0,
      "outputs": []
    },
    {
      "cell_type": "code",
      "metadata": {
        "id": "5ViWT5PL_gij",
        "colab_type": "code",
        "outputId": "b8f6b12f-281f-41bf-e9c5-d713a891931b",
        "colab": {
          "base_uri": "https://localhost:8080/",
          "height": 221
        }
      },
      "source": [
        "# Convert to list\n",
        "data = df.text.values.tolist()\n",
        "\n",
        "# Remove Emails\n",
        "data = [re.sub('\\S*@\\S*\\s?', '', sent) for sent in data]\n",
        "\n",
        "# Remove new line characters\n",
        "data = [re.sub('\\s+', ' ', sent) for sent in data]\n",
        "\n",
        "# Remove distracting single quotes\n",
        "data = [re.sub(\"\\'\", \"\", sent) for sent in data]\n",
        "\n",
        "pprint(data[:1])"
      ],
      "execution_count": 43,
      "outputs": [
        {
          "output_type": "stream",
          "text": [
            "['My wife took me here on my birthday for breakfast and it was excellent. The '\n",
            " 'weather was perfect which made sitting outside overlooking their grounds an '\n",
            " 'absolute pleasure. Our waitress was excellent and our food arrived quickly '\n",
            " 'on the semi-busy Saturday morning. It looked like the place fills up pretty '\n",
            " 'quickly so the earlier you get here the better. Do yourself a favor and get '\n",
            " 'their Bloody Mary. It was phenomenal and simply the best Ive ever had. Im '\n",
            " 'pretty sure they only use ingredients from their garden and blend them fresh '\n",
            " 'when you order it. It was amazing. While EVERYTHING on the menu looks '\n",
            " 'excellent, I had the white truffle scrambled eggs vegetable skillet and it '\n",
            " 'was tasty and delicious. It came with 2 pieces of their griddled bread with '\n",
            " 'was amazing and it absolutely made the meal complete. It was the best '\n",
            " '\"toast\" Ive ever had. Anyway, I cant wait to go back!']\n"
          ],
          "name": "stdout"
        }
      ]
    },
    {
      "cell_type": "code",
      "metadata": {
        "id": "dE5uUEb0_gik",
        "colab_type": "code",
        "colab": {}
      },
      "source": [
        "# NLTK Stop words\n",
        "from nltk.corpus import stopwords\n",
        "stop_words = stopwords.words('english')\n",
        "stop_words.extend(['from', 'subject', 're', 'edu', 'use'])"
      ],
      "execution_count": 0,
      "outputs": []
    },
    {
      "cell_type": "code",
      "metadata": {
        "id": "MYEirOSv_gim",
        "colab_type": "code",
        "outputId": "98c255e5-6bd7-49c3-c14b-92ef8272cff6",
        "colab": {
          "base_uri": "https://localhost:8080/",
          "height": 54
        }
      },
      "source": [
        "def sent_to_words(sentences):\n",
        "    for sentence in sentences:\n",
        "        yield(gensim.utils.simple_preprocess(str(sentence), deacc=True))  # deacc=True removes punctuations\n",
        "\n",
        "data_words = list(sent_to_words(data))\n",
        "\n",
        "print(data_words[:1])"
      ],
      "execution_count": 45,
      "outputs": [
        {
          "output_type": "stream",
          "text": [
            "[['my', 'wife', 'took', 'me', 'here', 'on', 'my', 'birthday', 'for', 'breakfast', 'and', 'it', 'was', 'excellent', 'the', 'weather', 'was', 'perfect', 'which', 'made', 'sitting', 'outside', 'overlooking', 'their', 'grounds', 'an', 'absolute', 'pleasure', 'our', 'waitress', 'was', 'excellent', 'and', 'our', 'food', 'arrived', 'quickly', 'on', 'the', 'semi', 'busy', 'saturday', 'morning', 'it', 'looked', 'like', 'the', 'place', 'fills', 'up', 'pretty', 'quickly', 'so', 'the', 'earlier', 'you', 'get', 'here', 'the', 'better', 'do', 'yourself', 'favor', 'and', 'get', 'their', 'bloody', 'mary', 'it', 'was', 'phenomenal', 'and', 'simply', 'the', 'best', 'ive', 'ever', 'had', 'im', 'pretty', 'sure', 'they', 'only', 'use', 'ingredients', 'from', 'their', 'garden', 'and', 'blend', 'them', 'fresh', 'when', 'you', 'order', 'it', 'it', 'was', 'amazing', 'while', 'everything', 'on', 'the', 'menu', 'looks', 'excellent', 'had', 'the', 'white', 'truffle', 'scrambled', 'eggs', 'vegetable', 'skillet', 'and', 'it', 'was', 'tasty', 'and', 'delicious', 'it', 'came', 'with', 'pieces', 'of', 'their', 'griddled', 'bread', 'with', 'was', 'amazing', 'and', 'it', 'absolutely', 'made', 'the', 'meal', 'complete', 'it', 'was', 'the', 'best', 'toast', 'ive', 'ever', 'had', 'anyway', 'cant', 'wait', 'to', 'go', 'back']]\n"
          ],
          "name": "stdout"
        }
      ]
    },
    {
      "cell_type": "code",
      "metadata": {
        "id": "Otkb8TQU_gin",
        "colab_type": "code",
        "outputId": "6ffb4d0c-fade-4c76-eabe-e47cbb1e6050",
        "colab": {
          "base_uri": "https://localhost:8080/",
          "height": 88
        }
      },
      "source": [
        "# Build the bigram and trigram models\n",
        "bigram = gensim.models.Phrases(data_words, min_count=5, threshold=100) # higher threshold fewer phrases.\n",
        "trigram = gensim.models.Phrases(bigram[data_words], threshold=100)  \n",
        "\n",
        "# Faster way to get a sentence clubbed as a trigram/bigram\n",
        "bigram_mod = gensim.models.phrases.Phraser(bigram)\n",
        "trigram_mod = gensim.models.phrases.Phraser(trigram)\n",
        "\n",
        "# See trigram example\n",
        "print(trigram_mod[bigram_mod[data_words[0]]])"
      ],
      "execution_count": 46,
      "outputs": [
        {
          "output_type": "stream",
          "text": [
            "/usr/local/lib/python3.6/dist-packages/gensim/models/phrases.py:598: UserWarning: For a faster implementation, use the gensim.models.phrases.Phraser class\n",
            "  warnings.warn(\"For a faster implementation, use the gensim.models.phrases.Phraser class\")\n"
          ],
          "name": "stderr"
        },
        {
          "output_type": "stream",
          "text": [
            "['my', 'wife', 'took', 'me', 'here', 'on', 'my', 'birthday', 'for', 'breakfast', 'and', 'it', 'was', 'excellent', 'the', 'weather', 'was', 'perfect', 'which', 'made', 'sitting', 'outside', 'overlooking', 'their', 'grounds', 'an', 'absolute', 'pleasure', 'our', 'waitress', 'was', 'excellent', 'and', 'our', 'food', 'arrived', 'quickly', 'on', 'the', 'semi', 'busy', 'saturday', 'morning', 'it', 'looked', 'like', 'the', 'place', 'fills', 'up', 'pretty', 'quickly', 'so', 'the', 'earlier', 'you', 'get', 'here', 'the', 'better', 'do_yourself_favor', 'and', 'get', 'their', 'bloody_mary', 'it', 'was', 'phenomenal', 'and', 'simply', 'the', 'best', 'ive', 'ever', 'had', 'im', 'pretty', 'sure', 'they', 'only', 'use', 'ingredients', 'from', 'their', 'garden', 'and', 'blend', 'them', 'fresh', 'when', 'you', 'order', 'it', 'it', 'was', 'amazing', 'while', 'everything', 'on', 'the', 'menu', 'looks', 'excellent', 'had', 'the', 'white', 'truffle', 'scrambled_eggs', 'vegetable', 'skillet', 'and', 'it', 'was', 'tasty', 'and', 'delicious', 'it', 'came', 'with', 'pieces', 'of', 'their', 'griddled', 'bread', 'with', 'was', 'amazing', 'and', 'it', 'absolutely', 'made', 'the', 'meal', 'complete', 'it', 'was', 'the', 'best', 'toast', 'ive', 'ever', 'had', 'anyway', 'cant', 'wait', 'to', 'go', 'back']\n"
          ],
          "name": "stdout"
        }
      ]
    },
    {
      "cell_type": "code",
      "metadata": {
        "id": "3AdE-TwF_gip",
        "colab_type": "code",
        "colab": {}
      },
      "source": [
        "# Define functions for stopwords, bigrams, trigrams and lemmatization\n",
        "def remove_stopwords(texts):\n",
        "    return [[word for word in simple_preprocess(str(doc)) if word not in stop_words] for doc in texts]\n",
        "\n",
        "def make_bigrams(texts):\n",
        "    return [bigram_mod[doc] for doc in texts]\n",
        "\n",
        "def make_trigrams(texts):\n",
        "    return [trigram_mod[bigram_mod[doc]] for doc in texts]\n",
        "\n",
        "def lemmatization(texts, allowed_postags=['NOUN', 'ADJ', 'VERB', 'ADV']):\n",
        "    \"\"\"https://spacy.io/api/annotation\"\"\"\n",
        "    texts_out = []\n",
        "    for sent in texts:\n",
        "        doc = nlp(\" \".join(sent)) \n",
        "        texts_out.append([token.lemma_ for token in doc if token.pos_ in allowed_postags])\n",
        "    return texts_out"
      ],
      "execution_count": 0,
      "outputs": []
    },
    {
      "cell_type": "code",
      "metadata": {
        "id": "iU6WmD8I_gir",
        "colab_type": "code",
        "outputId": "99076999-c037-416b-c2e7-c7127a3f3cba",
        "colab": {
          "base_uri": "https://localhost:8080/",
          "height": 54
        }
      },
      "source": [
        "# Remove Stop Words\n",
        "data_words_nostops = remove_stopwords(data_words)\n",
        "\n",
        "# Form Bigrams\n",
        "data_words_bigrams = make_bigrams(data_words_nostops)\n",
        "\n",
        "# Initialize spacy 'en' model, keeping only tagger component (for efficiency)\n",
        "# python3 -m spacy download en\n",
        "nlp = spacy.load('en', disable=['parser', 'ner'])\n",
        "\n",
        "# Do lemmatization keeping only noun, adj, vb, adv\n",
        "data_lemmatized = lemmatization(data_words_bigrams, allowed_postags=['NOUN', 'ADJ', 'VERB', 'ADV'])\n",
        "\n",
        "print(data_lemmatized[:1])"
      ],
      "execution_count": 48,
      "outputs": [
        {
          "output_type": "stream",
          "text": [
            "[['wife', 'take', 'birthday', 'breakfast', 'excellent', 'weather', 'perfect', 'make', 'sit', 'overlooking', 'ground', 'absolute', 'pleasure', 'waitress', 'excellent', 'food', 'arrive', 'quickly', 'semi', 'busy', 'saturday', 'morning', 'look', 'place', 'fill', 'pretty', 'quickly', 'earlier', 'get', 'well', 'favor', 'get', 'bloody_mary', 'phenomenal', 'simply', 'good', 'have', 'ever', 'be', 'pretty', 'sure', 'ingredient', 'garden', 'blend', 'fresh', 'order', 'amazing', 'everything', 'menu', 'look', 'excellent', 'white', 'truffle', 'scrambled_eggs', 'vegetable', 'skillet', 'tasty', 'delicious', 'come', 'piece', 'griddle', 'bread', 'amazing', 'absolutely', 'make', 'meal', 'complete', 'good', 'toast', 'have', 'ever', 'anyway', 'not', 'wait', 'go', 'back']]\n"
          ],
          "name": "stdout"
        }
      ]
    },
    {
      "cell_type": "code",
      "metadata": {
        "id": "e4Vy_k8C_git",
        "colab_type": "code",
        "outputId": "d9021718-992b-4517-aae9-ed605378506c",
        "colab": {
          "base_uri": "https://localhost:8080/",
          "height": 54
        }
      },
      "source": [
        "# Create Dictionary\n",
        "id2word = corpora.Dictionary(data_lemmatized)\n",
        "\n",
        "# Create Corpus\n",
        "texts = data_lemmatized\n",
        "\n",
        "# Term Document Frequency\n",
        "corpus = [id2word.doc2bow(text) for text in texts]\n",
        "\n",
        "# View\n",
        "print(corpus[:1])"
      ],
      "execution_count": 49,
      "outputs": [
        {
          "output_type": "stream",
          "text": [
            "[[(0, 1), (1, 1), (2, 2), (3, 1), (4, 1), (5, 1), (6, 1), (7, 1), (8, 1), (9, 1), (10, 1), (11, 1), (12, 1), (13, 1), (14, 1), (15, 1), (16, 1), (17, 2), (18, 1), (19, 3), (20, 1), (21, 1), (22, 1), (23, 1), (24, 1), (25, 2), (26, 1), (27, 2), (28, 1), (29, 1), (30, 2), (31, 1), (32, 2), (33, 2), (34, 1), (35, 1), (36, 1), (37, 1), (38, 1), (39, 1), (40, 1), (41, 1), (42, 1), (43, 1), (44, 1), (45, 2), (46, 2), (47, 1), (48, 1), (49, 1), (50, 1), (51, 1), (52, 1), (53, 1), (54, 1), (55, 1), (56, 1), (57, 1), (58, 1), (59, 1), (60, 1), (61, 1), (62, 1), (63, 1), (64, 1)]]\n"
          ],
          "name": "stdout"
        }
      ]
    },
    {
      "cell_type": "code",
      "metadata": {
        "id": "tlx-5QwC_giu",
        "colab_type": "code",
        "outputId": "eb68f119-1c5f-44d7-a380-53aff37a4c6e",
        "colab": {
          "base_uri": "https://localhost:8080/",
          "height": 1000
        }
      },
      "source": [
        "# Human readable format of corpus (term-frequency)\n",
        "[[(id2word[id], freq) for id, freq in cp] for cp in corpus[:1]]"
      ],
      "execution_count": 50,
      "outputs": [
        {
          "output_type": "execute_result",
          "data": {
            "text/plain": [
              "[[('absolute', 1),\n",
              "  ('absolutely', 1),\n",
              "  ('amazing', 2),\n",
              "  ('anyway', 1),\n",
              "  ('arrive', 1),\n",
              "  ('back', 1),\n",
              "  ('be', 1),\n",
              "  ('birthday', 1),\n",
              "  ('blend', 1),\n",
              "  ('bloody_mary', 1),\n",
              "  ('bread', 1),\n",
              "  ('breakfast', 1),\n",
              "  ('busy', 1),\n",
              "  ('come', 1),\n",
              "  ('complete', 1),\n",
              "  ('delicious', 1),\n",
              "  ('earlier', 1),\n",
              "  ('ever', 2),\n",
              "  ('everything', 1),\n",
              "  ('excellent', 3),\n",
              "  ('favor', 1),\n",
              "  ('fill', 1),\n",
              "  ('food', 1),\n",
              "  ('fresh', 1),\n",
              "  ('garden', 1),\n",
              "  ('get', 2),\n",
              "  ('go', 1),\n",
              "  ('good', 2),\n",
              "  ('griddle', 1),\n",
              "  ('ground', 1),\n",
              "  ('have', 2),\n",
              "  ('ingredient', 1),\n",
              "  ('look', 2),\n",
              "  ('make', 2),\n",
              "  ('meal', 1),\n",
              "  ('menu', 1),\n",
              "  ('morning', 1),\n",
              "  ('not', 1),\n",
              "  ('order', 1),\n",
              "  ('overlooking', 1),\n",
              "  ('perfect', 1),\n",
              "  ('phenomenal', 1),\n",
              "  ('piece', 1),\n",
              "  ('place', 1),\n",
              "  ('pleasure', 1),\n",
              "  ('pretty', 2),\n",
              "  ('quickly', 2),\n",
              "  ('saturday', 1),\n",
              "  ('scrambled_eggs', 1),\n",
              "  ('semi', 1),\n",
              "  ('simply', 1),\n",
              "  ('sit', 1),\n",
              "  ('skillet', 1),\n",
              "  ('sure', 1),\n",
              "  ('take', 1),\n",
              "  ('tasty', 1),\n",
              "  ('toast', 1),\n",
              "  ('truffle', 1),\n",
              "  ('vegetable', 1),\n",
              "  ('wait', 1),\n",
              "  ('waitress', 1),\n",
              "  ('weather', 1),\n",
              "  ('well', 1),\n",
              "  ('white', 1),\n",
              "  ('wife', 1)]]"
            ]
          },
          "metadata": {
            "tags": []
          },
          "execution_count": 50
        }
      ]
    },
    {
      "cell_type": "code",
      "metadata": {
        "id": "GlRm2U_O_giw",
        "colab_type": "code",
        "colab": {}
      },
      "source": [
        "lda_model = gensim.models.ldamodel.LdaModel(corpus=corpus,\n",
        "                                           id2word=id2word,\n",
        "                                           num_topics=8, \n",
        "                                           random_state=100,\n",
        "                                           update_every=1,\n",
        "                                           chunksize=100,\n",
        "                                           passes=10,\n",
        "                                           alpha='auto',\n",
        "                                           per_word_topics=True)"
      ],
      "execution_count": 0,
      "outputs": []
    },
    {
      "cell_type": "code",
      "metadata": {
        "id": "NRUV8EwT_gix",
        "colab_type": "code",
        "outputId": "247ef788-5016-4645-f120-9b8301b78186",
        "colab": {
          "base_uri": "https://localhost:8080/",
          "height": 544
        }
      },
      "source": [
        "# Print the Keyword in the 8 topics\n",
        "pprint(lda_model.print_topics())\n",
        "doc_lda = lda_model[corpus]"
      ],
      "execution_count": 0,
      "outputs": [
        {
          "output_type": "stream",
          "text": [
            "[(0,\n",
            "  '0.032*\"dog\" + 0.029*\"room\" + 0.024*\"stay\" + 0.016*\"hotel\" + 0.015*\"pool\" + '\n",
            "  '0.014*\"cake\" + 0.014*\"park\" + 0.013*\"parking\" + 0.012*\"mall\" + '\n",
            "  '0.012*\"cookie\"'),\n",
            " (1,\n",
            "  '0.029*\"not\" + 0.022*\"go\" + 0.021*\"get\" + 0.016*\"be\" + 0.016*\"do\" + '\n",
            "  '0.016*\"good\" + 0.015*\"time\" + 0.011*\"come\" + 0.011*\"make\" + 0.011*\"food\"'),\n",
            " (2,\n",
            "  '0.031*\"location\" + 0.016*\"new\" + 0.013*\"local\" + 0.012*\"spend\" + '\n",
            "  '0.010*\"trip\" + 0.009*\"year\" + 0.009*\"smell\" + 0.008*\"pho\" + 0.008*\"book\" + '\n",
            "  '0.008*\"include\"'),\n",
            " (3,\n",
            "  '0.043*\"great\" + 0.039*\"place\" + 0.028*\"food\" + 0.027*\"good\" + 0.025*\"love\" '\n",
            "  '+ 0.015*\"always\" + 0.014*\"bar\" + 0.014*\"drink\" + 0.013*\"friendly\" + '\n",
            "  '0.013*\"night\"'),\n",
            " (4,\n",
            "  '0.032*\"course\" + 0.016*\"able\" + 0.010*\"office\" + 0.010*\"step\" + '\n",
            "  '0.010*\"play\" + 0.007*\"card\" + 0.007*\"foot\" + 0.007*\"color\" + 0.007*\"road\" + '\n",
            "  '0.007*\"cash\"'),\n",
            " (5,\n",
            "  '0.039*\"store\" + 0.012*\"car\" + 0.012*\"class\" + 0.009*\"young\" + '\n",
            "  '0.007*\"cocktail\" + 0.007*\"wear\" + 0.006*\"dress\" + 0.006*\"movie\" + '\n",
            "  '0.006*\"flight\" + 0.006*\"spa\"'),\n",
            " (6,\n",
            "  '0.022*\"chicken\" + 0.021*\"order\" + 0.018*\"sauce\" + 0.017*\"taste\" + '\n",
            "  '0.016*\"salad\" + 0.016*\"dish\" + 0.015*\"sandwich\" + 0.015*\"cheese\" + '\n",
            "  '0.014*\"fry\" + 0.014*\"fresh\"'),\n",
            " (7,\n",
            "  '0.021*\"use\" + 0.019*\"coffee\" + 0.017*\"shop\" + 0.014*\"buy\" + 0.012*\"thank\" + '\n",
            "  '0.012*\"valley\" + 0.010*\"treat\" + 0.009*\"call\" + 0.008*\"world\" + '\n",
            "  '0.008*\"employee\"')]\n"
          ],
          "name": "stdout"
        }
      ]
    },
    {
      "cell_type": "markdown",
      "metadata": {
        "id": "Y8fKp9QnfWjo",
        "colab_type": "text"
      },
      "source": [
        "### Evaluate topic model \n",
        "\n",
        "Two metrics are used to evaluate the performance of a topic modeling of a set of documents :\n",
        "\n",
        "1. **Perplexity** :\n",
        "    - Perplexity is a statistical measure of how well a probability model predicts a sample. As applied to LDA, for a given value of \n",
        "k, you estimate the LDA model.\n",
        "    - Then given the theoretical word distributions represented by the topics, compare that to the actual topic mixtures, or distribution of words in your documents. \n",
        "    - However, the statistic is somewhat meaningless on its own. The benefit of this statistic comes in comparing perplexity across different models with varying  k. The model with the lowest perplexity is generally considered the “best”.\n",
        "    - ! Optimizing for perplexity may not yield human interpretable topics ! \n",
        "\n",
        "\n",
        "\n",
        "2. **Coherence** :\n",
        "    - Topic Coherence measures score a single topic by measuring the degree of semantic similarity between high scoring words in the topic. These measurements help distinguish between topics that are semantically interpretable topics and topics that are artifacts of statistical inference.\n",
        "    - C_v measure is a variant to calculate a topic coherence, it's based on a sliding window, one-set segmentation of the top words and an indirect confirmation measure that uses normalized pointwise mutual information (NPMI) and the cosine similarity"
      ]
    },
    {
      "cell_type": "code",
      "metadata": {
        "id": "vAQ4kXi3_giz",
        "colab_type": "code",
        "outputId": "8cba88e1-992e-4785-a7e3-1269e163a912",
        "colab": {
          "base_uri": "https://localhost:8080/",
          "height": 85
        }
      },
      "source": [
        "# Compute Perplexity\n",
        "print('\\nPerplexity: ', lda_model.log_perplexity(corpus))  # a measure of how good the model is. lower the better.\n",
        "\n",
        "# Compute Coherence Score\n",
        "coherence_model_lda = CoherenceModel(model=lda_model, texts=data_lemmatized, dictionary=id2word, coherence='c_v')\n",
        "coherence_lda = coherence_model_lda.get_coherence()\n",
        "print('\\nCoherence Score: ', coherence_lda)"
      ],
      "execution_count": 52,
      "outputs": [
        {
          "output_type": "stream",
          "text": [
            "\n",
            "Perplexity:  -7.789951700286562\n",
            "\n",
            "Coherence Score:  0.3424798013925847\n"
          ],
          "name": "stdout"
        }
      ]
    },
    {
      "cell_type": "code",
      "metadata": {
        "id": "Ah7C44nV_gi0",
        "colab_type": "code",
        "colab": {}
      },
      "source": [
        "pyLDAvis.enable_notebook()\n",
        "vis = pyLDAvis.gensim.prepare(lda_model, corpus, id2word)\n",
        "vis"
      ],
      "execution_count": 0,
      "outputs": []
    }
  ]
}